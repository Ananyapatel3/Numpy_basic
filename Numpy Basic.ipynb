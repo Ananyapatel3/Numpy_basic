{
 "cells": [
  {
   "cell_type": "code",
   "execution_count": null,
   "id": "2d5709b6-2d5e-4f50-b2e2-e9c389afbec8",
   "metadata": {},
   "outputs": [],
   "source": [
    "Q1. Is there any difference in the data type of variables list_ and array_list? If there is then write a code\n",
    "to print the data types of both the variables."
   ]
  },
  {
   "cell_type": "code",
   "execution_count": null,
   "id": "3ea3ed71-8185-4eba-8471-1113e3b0b533",
   "metadata": {},
   "outputs": [],
   "source": [
    "Yes, there is a difference in the data type of variables list_ and array_list.\n",
    "\n",
    "Code to print the data types of both variables:\n",
    "\n",
    "print(type(list_))\n",
    "print(type(array_list))"
   ]
  },
  {
   "cell_type": "code",
   "execution_count": null,
   "id": "e9c52344-d6c9-4861-a23f-0b7630564262",
   "metadata": {},
   "outputs": [],
   "source": [
    "Q2. Write a code to print the data type of each and every element of both the variables list_ and\n",
    "arra_list."
   ]
  },
  {
   "cell_type": "code",
   "execution_count": null,
   "id": "d2a95934-65ba-4613-8718-dfc9349bd0ae",
   "metadata": {},
   "outputs": [],
   "source": [
    "for element in list_:\n",
    "    print(type(element))\n",
    "\n",
    "for element in array_list:\n",
    "    print(type(element))"
   ]
  },
  {
   "cell_type": "code",
   "execution_count": null,
   "id": "b309e591-3a9a-409a-95db-48fc65d6a4c2",
   "metadata": {},
   "outputs": [],
   "source": [
    "Q3. Considering the following changes in the variable, array_list:\n",
    "array_list = np.array(object = list_, dtype = int)"
   ]
  },
  {
   "cell_type": "code",
   "execution_count": null,
   "id": "3fedc507-2aee-4510-9b5f-b1682e7ffeb4",
   "metadata": {},
   "outputs": [],
   "source": [
    "Yes, there will be a difference in the data type of the elements present in both the variables, `list_` and `array_list`. \n",
    "\n",
    "Initially, the data type of the elements in `list_` was strings, however, after creating the array `array_list` with dtype as 'int', the data type of the elements in the `array_list` will be integers.\n",
    "\n",
    "To print the data types of each and every element present in both the variables, we can use the below code:\n",
    "\n",
    "for element in list_:\n",
    "    print(element, type(element))\n",
    "\n",
    "for element in array_list:\n",
    "    print(element, type(element))\n",
    "\n",
    "The output will be as follows (assuming that the `list_` was initially defined as `[ '1' , '2' , '3' , '4' , '5' ]` and `array_list` was created as `array_list = np.array(object = list_, dtype = int)`):\n",
    "```\n",
    "1 <class 'str'>\n",
    "2 <class 'str'>\n",
    "3 <class 'str'>\n",
    "4 <class 'str'>\n",
    "5 <class 'str'>\n",
    "1 <class 'int'>\n",
    "2 <class 'int'>\n",
    "3 <class 'int'>\n",
    "4 <class 'int'>\n",
    "5 <class 'int'>\n",
    "``` \n",
    "\n"
   ]
  },
  {
   "cell_type": "code",
   "execution_count": null,
   "id": "f6d11983-6ecc-4141-99d0-29f8c3dda458",
   "metadata": {},
   "outputs": [],
   "source": [
    "Q4. Write a code to find the following characteristics of variable, num_array:\n",
    "(i) shape\n",
    "(ii) size"
   ]
  },
  {
   "cell_type": "code",
   "execution_count": 1,
   "id": "5094e98e-f3d9-49c3-acd0-32351f83ada8",
   "metadata": {},
   "outputs": [
    {
     "name": "stdout",
     "output_type": "stream",
     "text": [
      "Shape of num_array: (2, 3)\n",
      "Size of num_array: 6\n"
     ]
    }
   ],
   "source": [
    "import numpy as np\n",
    "num_list = [[1, 2, 3], [4, 5, 6]]\n",
    "num_array = np.array(num_list)\n",
    "print(\"Shape of num_array:\", num_array.shape)\n",
    "print(\"Size of num_array:\", num_array.size)"
   ]
  },
  {
   "cell_type": "code",
   "execution_count": null,
   "id": "a6c3c67e-f8f7-4d2a-805d-bddfc469d7f5",
   "metadata": {},
   "outputs": [],
   "source": [
    "Q5. Write a code to create numpy array of 3*3 matrix containing zeros only, using a numpy array\n",
    "creation function.\n",
    "[Hint: The size of the array will be 9 and the shape will be (3,3).]"
   ]
  },
  {
   "cell_type": "code",
   "execution_count": 2,
   "id": "ba292c79-dafe-426c-98ec-d7d1a80c31ad",
   "metadata": {},
   "outputs": [
    {
     "name": "stdout",
     "output_type": "stream",
     "text": [
      "[[0. 0. 0.]\n",
      " [0. 0. 0.]\n",
      " [0. 0. 0.]]\n"
     ]
    }
   ],
   "source": [
    "import numpy as np\n",
    "zeros_array = np.zeros((3, 3))\n",
    "\n",
    "print(zeros_array)"
   ]
  },
  {
   "cell_type": "code",
   "execution_count": null,
   "id": "6ac774bf-a1cb-46f3-be77-bd1a696bd073",
   "metadata": {},
   "outputs": [],
   "source": [
    "Q6. Create an identity matrix of shape (5,5) using numpy functions?\n",
    "[Hint: An identity matrix is a matrix containing 1 diagonally and other elements will be 0.]"
   ]
  },
  {
   "cell_type": "code",
   "execution_count": 3,
   "id": "f876be01-e7b0-4be5-8b3f-ace249a539f3",
   "metadata": {},
   "outputs": [
    {
     "name": "stdout",
     "output_type": "stream",
     "text": [
      "[[1. 0. 0. 0. 0.]\n",
      " [0. 1. 0. 0. 0.]\n",
      " [0. 0. 1. 0. 0.]\n",
      " [0. 0. 0. 1. 0.]\n",
      " [0. 0. 0. 0. 1.]]\n"
     ]
    }
   ],
   "source": [
    "import numpy as np\n",
    "identity_matrix = np.identity(5)\n",
    "\n",
    "print(identity_matrix)"
   ]
  },
  {
   "cell_type": "code",
   "execution_count": null,
   "id": "0f68c0d9-8360-444a-b786-ea0081bc97b2",
   "metadata": {},
   "outputs": [],
   "source": []
  }
 ],
 "metadata": {
  "kernelspec": {
   "display_name": "Python 3 (ipykernel)",
   "language": "python",
   "name": "python3"
  },
  "language_info": {
   "codemirror_mode": {
    "name": "ipython",
    "version": 3
   },
   "file_extension": ".py",
   "mimetype": "text/x-python",
   "name": "python",
   "nbconvert_exporter": "python",
   "pygments_lexer": "ipython3",
   "version": "3.10.8"
  }
 },
 "nbformat": 4,
 "nbformat_minor": 5
}
